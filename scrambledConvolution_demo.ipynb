{
  "nbformat": 4,
  "nbformat_minor": 0,
  "metadata": {
    "colab": {
      "provenance": [],
      "toc_visible": true
    },
    "kernelspec": {
      "name": "python3",
      "display_name": "Python 3"
    },
    "language_info": {
      "name": "python"
    }
  },
  "cells": [
    {
      "cell_type": "markdown",
      "source": [
        "#SETUP"
      ],
      "metadata": {
        "id": "0oqA4F-UkZGR"
      }
    },
    {
      "cell_type": "markdown",
      "source": [
        "## **Installation**\n",
        "First we need to install the package. Feel free to copy the terminal command for local installation."
      ],
      "metadata": {
        "id": "fmJb3wNcCBEN"
      }
    },
    {
      "cell_type": "code",
      "execution_count": null,
      "metadata": {
        "colab": {
          "base_uri": "https://localhost:8080/"
        },
        "id": "7wK3GigIafc-",
        "outputId": "fe7a89b3-240a-40c6-9738-298cb0e1bc4a"
      },
      "outputs": [
        {
          "output_type": "stream",
          "name": "stdout",
          "text": [
            "Collecting scrambledConvolution@ git+https://github.com/tillvogt/scrambledConvolution.git\n",
            "  Cloning https://github.com/tillvogt/scrambledConvolution.git to /tmp/pip-install-f12heqg3/scrambledconvolution_6e700873629e455fb72fbe2636ea0730\n",
            "  Running command git clone --filter=blob:none --quiet https://github.com/tillvogt/scrambledConvolution.git /tmp/pip-install-f12heqg3/scrambledconvolution_6e700873629e455fb72fbe2636ea0730\n",
            "  Resolved https://github.com/tillvogt/scrambledConvolution.git to commit bbdcf9b38f461ee859bdcff665592ffd39205a6d\n",
            "  Installing build dependencies ... \u001b[?25l\u001b[?25hdone\n",
            "  Getting requirements to build wheel ... \u001b[?25l\u001b[?25hdone\n",
            "  Preparing metadata (pyproject.toml) ... \u001b[?25l\u001b[?25hdone\n",
            "Collecting numba>=0.59.1 (from scrambledConvolution@ git+https://github.com/tillvogt/scrambledConvolution.git)\n",
            "  Downloading numba-0.59.1-cp310-cp310-manylinux2014_x86_64.manylinux_2_17_x86_64.whl (3.7 MB)\n",
            "\u001b[2K     \u001b[90m━━━━━━━━━━━━━━━━━━━━━━━━━━━━━━━━━━━━━━━━\u001b[0m \u001b[32m3.7/3.7 MB\u001b[0m \u001b[31m12.9 MB/s\u001b[0m eta \u001b[36m0:00:00\u001b[0m\n",
            "\u001b[?25hRequirement already satisfied: numpy>=1.21 in /usr/local/lib/python3.10/dist-packages (from scrambledConvolution@ git+https://github.com/tillvogt/scrambledConvolution.git) (1.25.2)\n",
            "Collecting llvmlite<0.43,>=0.42.0dev0 (from numba>=0.59.1->scrambledConvolution@ git+https://github.com/tillvogt/scrambledConvolution.git)\n",
            "  Downloading llvmlite-0.42.0-cp310-cp310-manylinux_2_17_x86_64.manylinux2014_x86_64.whl (43.8 MB)\n",
            "\u001b[2K     \u001b[90m━━━━━━━━━━━━━━━━━━━━━━━━━━━━━━━━━━━━━━━━\u001b[0m \u001b[32m43.8/43.8 MB\u001b[0m \u001b[31m18.2 MB/s\u001b[0m eta \u001b[36m0:00:00\u001b[0m\n",
            "\u001b[?25hBuilding wheels for collected packages: scrambledConvolution\n",
            "  Building wheel for scrambledConvolution (pyproject.toml) ... \u001b[?25l\u001b[?25hdone\n",
            "  Created wheel for scrambledConvolution: filename=scrambledconvolution-0.0.1-py3-none-any.whl size=303657 sha256=958f90340fb81d4c16b8700e3bd3e1c5c702a0dd6903d612b83188c5bd8664ef\n",
            "  Stored in directory: /tmp/pip-ephem-wheel-cache-czbwlxc4/wheels/cf/64/96/56c0338edbbef4b5c178e01ade12d50ac845f9129203528a3b\n",
            "Successfully built scrambledConvolution\n",
            "Installing collected packages: llvmlite, numba, scrambledConvolution\n",
            "  Attempting uninstall: llvmlite\n",
            "    Found existing installation: llvmlite 0.41.1\n",
            "    Uninstalling llvmlite-0.41.1:\n",
            "      Successfully uninstalled llvmlite-0.41.1\n",
            "  Attempting uninstall: numba\n",
            "    Found existing installation: numba 0.58.1\n",
            "    Uninstalling numba-0.58.1:\n",
            "      Successfully uninstalled numba-0.58.1\n",
            "Successfully installed llvmlite-0.42.0 numba-0.59.1 scrambledConvolution-0.0.1\n"
          ]
        }
      ],
      "source": [
        "!pip3 install scrambledConvolution@git+https://github.com/tillvogt/scrambledConvolution.git"
      ]
    },
    {
      "cell_type": "markdown",
      "source": [
        "##**Imports**\n",
        "next to the scrambledConvolution package, numpy and numba are installed as dependencies.\n",
        "For visualizing things we import matplotlib.pyplot.\n",
        "\n",
        "The scrambledConvolution Package can be divided in different Subpackages:\n",
        "\n",
        "\n",
        "*   .layers: the different processinglayers like *'Convolutional'*, *'Dense'*, *'Pooling'* and *'Reshape'*.\n",
        "*   .activations: the different activation Layers like *'Softmax'*, *'Sigmoid'*, *'Tanh'*\n",
        "*   .losses: Lossfunctions like *'RMS'* and *'binary_cross_entropy'*\n",
        "*   .datasets: small sample packages like a shrinked version of MNIST\n",
        "\n",
        "\n",
        "\n"
      ],
      "metadata": {
        "id": "UEf1A966CW6l"
      }
    },
    {
      "cell_type": "code",
      "source": [
        "import numpy as np\n",
        "import matplotlib.pyplot as plt\n",
        "\n",
        "from scrambledConv.layers import Convolutional\n",
        "from scrambledConv.datasets.mnist_loader import load_data"
      ],
      "metadata": {
        "colab": {
          "base_uri": "https://localhost:8080/"
        },
        "id": "msA4IF18avpw",
        "outputId": "e12871b6-4116-4cd5-c7e0-a331ec914e55"
      },
      "execution_count": null,
      "outputs": [
        {
          "output_type": "stream",
          "name": "stdout",
          "text": [
            "Sie nutzen das sehr gute Package von Till Vogt\n"
          ]
        }
      ]
    },
    {
      "cell_type": "markdown",
      "source": [
        "#CONVOLUTIONAL LAYER"
      ],
      "metadata": {
        "id": "PfMgM522kfqx"
      }
    },
    {
      "cell_type": "markdown",
      "source": [
        "##**Loading testdata**\n",
        "\n",
        "Due to the fact, that this whole project is mainly about the Convolutional Layer, we try out some of the corresponding features.\n",
        "\n",
        "So lets import some handwritten digits from MNIST Dataset. We use the build in Dataloader for that."
      ],
      "metadata": {
        "id": "FRoTT7YAHIc5"
      }
    },
    {
      "cell_type": "code",
      "source": [
        "x_train, y_train, x_test, y_test = load_data()\n",
        "\n",
        "#change the picture_index for choosing another example\n",
        "picture_index = 5\n",
        "test_image = x_train[picture_index]\n",
        "\n",
        "plt.imshow(test_image[0], cmap=\"gray\")"
      ],
      "metadata": {
        "colab": {
          "base_uri": "https://localhost:8080/",
          "height": 447
        },
        "id": "EEglApzGbIT4",
        "outputId": "46b03e3a-faaa-46da-c3ae-19ff9aefcdbc"
      },
      "execution_count": null,
      "outputs": [
        {
          "output_type": "execute_result",
          "data": {
            "text/plain": [
              "<matplotlib.image.AxesImage at 0x79ca71afdea0>"
            ]
          },
          "metadata": {},
          "execution_count": 5
        },
        {
          "output_type": "display_data",
          "data": {
            "text/plain": [
              "<Figure size 640x480 with 1 Axes>"
            ],
            "image/png": "[encoded data removed]"
          },
          "metadata": {}
        }
      ]
    },
    {
      "cell_type": "markdown",
      "source": [
        "##**Using 'Convolution'**\n",
        "\n",
        "Now we instantiate a Convolutional layer. For feeding it with our testdata, just give it as argument, for the *.forward* method."
      ],
      "metadata": {
        "id": "evfFi_i3JGRP"
      }
    },
    {
      "cell_type": "code",
      "source": [
        "conv1 = Convolutional((1,28,28), 3, 1, type=\"regular\", mix_factor = 0)\n",
        "conv_image = conv1.forward(test_image)\n",
        "\n",
        "plt.imshow(conv_image[0], cmap=\"gray\")"
      ],
      "metadata": {
        "colab": {
          "base_uri": "https://localhost:8080/",
          "height": 447
        },
        "id": "vX1nofLsb0Pn",
        "outputId": "16cea4b7-ea95-4a03-d81e-ce8c8687a457"
      },
      "execution_count": null,
      "outputs": [
        {
          "output_type": "execute_result",
          "data": {
            "text/plain": [
              "<matplotlib.image.AxesImage at 0x79ca5b5e24d0>"
            ]
          },
          "metadata": {},
          "execution_count": 7
        },
        {
          "output_type": "display_data",
          "data": {
            "text/plain": [
              "<Figure size 640x480 with 1 Axes>"
            ],
            "image/png": "[encoded data removed]"
          },
          "metadata": {}
        }
      ]
    },
    {
      "cell_type": "markdown",
      "source": [
        "As you might see, the image is reduced in size, as well as noisy. The noise comes from the randomly picked biases, when initialising the Layer. So for investigate the kernel variations, we should set them to zero:"
      ],
      "metadata": {
        "id": "4XhLm_g0PDop"
      }
    },
    {
      "cell_type": "code",
      "source": [
        "conv1.biases = np.zeros(conv1.biases.shape)\n",
        "conv_image = conv1.forward(test_image)\n",
        "\n",
        "plt.imshow(conv_image[0], cmap=\"gray\")"
      ],
      "metadata": {
        "colab": {
          "base_uri": "https://localhost:8080/",
          "height": 447
        },
        "id": "hItHvkTEc1yF",
        "outputId": "fab400b0-fcb7-4b3f-8449-a5ee50907cb9"
      },
      "execution_count": null,
      "outputs": [
        {
          "output_type": "execute_result",
          "data": {
            "text/plain": [
              "<matplotlib.image.AxesImage at 0x79ca5b2ba800>"
            ]
          },
          "metadata": {},
          "execution_count": 8
        },
        {
          "output_type": "display_data",
          "data": {
            "text/plain": [
              "<Figure size 640x480 with 1 Axes>"
            ],
            "image/png": "[encoded data removed]"
          },
          "metadata": {}
        }
      ]
    },
    {
      "cell_type": "markdown",
      "source": [
        "##Mix IT UP!##\n",
        "\n",
        "Now after removing noise, let's test the mixing capabilities.\n",
        "Here you can pick one of the different types:\n",
        "*   \"*regular*\" = standard cross-correlation\n",
        "*   \"*retinaMix*\" = the kernel stays in square shape, directs the result of operations to random positions in the resulting image\n",
        "*   \"kernelMix\" = in this mode, the kernel is variated. For some of the Operations pixel inside the kernel is redirected to a random position.\n",
        "\n",
        "\n",
        "All the mixing operations depend on the *mix_factor*, wich is a frequency depending on the imagesize."
      ],
      "metadata": {
        "id": "yB5v0Lk1PqrU"
      }
    },
    {
      "cell_type": "code",
      "source": [
        "#Instantiate two Concolutional layers\n",
        "conv_retina_mix = Convolutional((1,28,28), 3, 1, type=\"retinaMix\", mix_factor=0.5)\n",
        "conv_kernel_mix = Convolutional((1,28,28), 3, 1, type=\"kernelMix\", mix_factor=0.5)\n",
        "\n",
        "#Setting same weights for better comparison\n",
        "conv_retina_mix.kernels = conv_kernel_mix.kernels\n",
        "\n",
        "#Setting biases to zero\n",
        "conv_retina_mix.biases = np.zeros(conv_retina_mix.biases.shape)\n",
        "conv_kernel_mix.biases = np.zeros(conv_kernel_mix.biases.shape)\n",
        "\n",
        "#feeding it with the testimage\n",
        "retina_mix_image = conv_retina_mix.forward(test_image)\n",
        "kernel_mix_image = conv_kernel_mix.forward(test_image)\n",
        "\n",
        "\n",
        "######plotting#####\n",
        "fig, axs = plt.subplots(1, 2, figsize=(10, 5))\n",
        "\n",
        "axs[0].imshow(retina_mix_image[0], cmap=\"gray\")\n",
        "axs[0].title.set_text(\"Retinamix: 0.5\")\n",
        "axs[0].axis(\"off\")\n",
        "\n",
        "axs[1].imshow(kernel_mix_image[0], cmap=\"gray\")\n",
        "axs[1].title.set_text(\"Kernelmix: 0.5\")\n",
        "axs[1].axis(\"off\")\n",
        "\n",
        "plt.tight_layout()\n",
        "plt.show()"
      ],
      "metadata": {
        "colab": {
          "base_uri": "https://localhost:8080/",
          "height": 523
        },
        "id": "Hes39sU3i87k",
        "outputId": "9f4b201a-3e70-469e-f6ff-ef0e0edadadc"
      },
      "execution_count": null,
      "outputs": [
        {
          "output_type": "display_data",
          "data": {
            "text/plain": [
              "<Figure size 1000x500 with 2 Axes>"
            ],
            "image/png": "[encoded data removed]"
          },
          "metadata": {}
        }
      ]
    },
    {
      "cell_type": "markdown",
      "source": [
        "#TRAIN"
      ],
      "metadata": {
        "id": "5Ap-tPOik6RD"
      }
    },
    {
      "cell_type": "markdown",
      "source": [
        "##Essential imports\n",
        "\n",
        "For training a Network, one has to make some further imports first."
      ],
      "metadata": {
        "id": "PPnwZnGKrUau"
      }
    },
    {
      "cell_type": "code",
      "source": [
        "from scrambledConv import train\n",
        "from scrambledConv.losses import mse\n",
        "from scrambledConv.activations import Sigmoid, Softmax\n",
        "from scrambledConv.layers import *\n",
        "#from scrambledConv.datasets import to_categorical"
      ],
      "metadata": {
        "id": "JqMh1Nk2sLiD"
      },
      "execution_count": null,
      "outputs": []
    },
    {
      "cell_type": "markdown",
      "source": [
        "##Building Network\n",
        "\n",
        "Now we are able to build a Network as a list of the different layer Classes."
      ],
      "metadata": {
        "id": "lp5i-ptEsMg0"
      }
    },
    {
      "cell_type": "code",
      "source": [
        "network = [\n",
        "      Convolutional((1, 28, 28), 5, 5),\n",
        "      Sigmoid(),\n",
        "      Pooling(),\n",
        "      Convolutional((5, 12, 12), 5, 5),\n",
        "      Sigmoid(),\n",
        "      Pooling(),\n",
        "      Reshape((5,4,4), ((5*4*4), 1)),\n",
        "      Dense(80, 32),\n",
        "      Sigmoid(),\n",
        "      Dense(32,10),\n",
        "      Softmax()\n",
        "]"
      ],
      "metadata": {
        "id": "WB0Gc-uDpedF"
      },
      "execution_count": null,
      "outputs": []
    }
  ]
}