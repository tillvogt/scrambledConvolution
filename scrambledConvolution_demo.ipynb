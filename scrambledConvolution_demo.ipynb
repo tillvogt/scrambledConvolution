{
  "cells": [
    {
      "cell_type": "markdown",
      "metadata": {
        "id": "0oqA4F-UkZGR"
      },
      "source": [
        "#SETUP"
      ]
    },
    {
      "cell_type": "markdown",
      "metadata": {
        "id": "fmJb3wNcCBEN"
      },
      "source": [
        "## **Installation**\n",
        "First we need to install the package. Feel free to copy the terminal command for local installation."
      ]
    },
    {
      "cell_type": "code",
      "execution_count": 1,
      "metadata": {
        "colab": {
          "base_uri": "https://localhost:8080/"
        },
        "id": "7wK3GigIafc-",
        "outputId": "48f71faf-cfd7-4bdb-da42-dee68d01aaf8"
      },
      "outputs": [
        {
          "output_type": "stream",
          "name": "stdout",
          "text": [
            "Collecting scrambledConvolution@ git+https://github.com/tillvogt/scrambledConvolution.git\n",
            "  Cloning https://github.com/tillvogt/scrambledConvolution.git to /tmp/pip-install-xv3hnlqu/scrambledconvolution_74f3509e4fe942bba5f1f96badb5c45c\n",
            "  Running command git clone --filter=blob:none --quiet https://github.com/tillvogt/scrambledConvolution.git /tmp/pip-install-xv3hnlqu/scrambledconvolution_74f3509e4fe942bba5f1f96badb5c45c\n",
            "  Resolved https://github.com/tillvogt/scrambledConvolution.git to commit 6b1376e1808811701643c352888d751fa735af2f\n",
            "  Installing build dependencies ... \u001b[?25l\u001b[?25hdone\n",
            "  Getting requirements to build wheel ... \u001b[?25l\u001b[?25hdone\n",
            "  Preparing metadata (pyproject.toml) ... \u001b[?25l\u001b[?25hdone\n",
            "Collecting numba>=0.59.1 (from scrambledConvolution@ git+https://github.com/tillvogt/scrambledConvolution.git)\n",
            "  Downloading numba-0.59.1-cp310-cp310-manylinux2014_x86_64.manylinux_2_17_x86_64.whl (3.7 MB)\n",
            "\u001b[2K     \u001b[90m━━━━━━━━━━━━━━━━━━━━━━━━━━━━━━━━━━━━━━━━\u001b[0m \u001b[32m3.7/3.7 MB\u001b[0m \u001b[31m9.4 MB/s\u001b[0m eta \u001b[36m0:00:00\u001b[0m\n",
            "\u001b[?25hCollecting numpy>=1.21 (from scrambledConvolution@ git+https://github.com/tillvogt/scrambledConvolution.git)\n",
            "  Downloading numpy-1.26.4-cp310-cp310-manylinux_2_17_x86_64.manylinux2014_x86_64.whl (18.2 MB)\n",
            "\u001b[2K     \u001b[90m━━━━━━━━━━━━━━━━━━━━━━━━━━━━━━━━━━━━━━━━\u001b[0m \u001b[32m18.2/18.2 MB\u001b[0m \u001b[31m51.9 MB/s\u001b[0m eta \u001b[36m0:00:00\u001b[0m\n",
            "\u001b[?25hCollecting llvmlite<0.43,>=0.42.0dev0 (from numba>=0.59.1->scrambledConvolution@ git+https://github.com/tillvogt/scrambledConvolution.git)\n",
            "  Downloading llvmlite-0.42.0-cp310-cp310-manylinux_2_17_x86_64.manylinux2014_x86_64.whl (43.8 MB)\n",
            "\u001b[2K     \u001b[90m━━━━━━━━━━━━━━━━━━━━━━━━━━━━━━━━━━━━━━━━\u001b[0m \u001b[32m43.8/43.8 MB\u001b[0m \u001b[31m11.2 MB/s\u001b[0m eta \u001b[36m0:00:00\u001b[0m\n",
            "\u001b[?25hBuilding wheels for collected packages: scrambledConvolution\n",
            "  Building wheel for scrambledConvolution (pyproject.toml) ... \u001b[?25l\u001b[?25hdone\n",
            "  Created wheel for scrambledConvolution: filename=scrambledconvolution-0.0.1-py3-none-any.whl size=307672 sha256=361f9dfd5f4065b2b20d890abc5206cd216270d1e905cfcb3f33f3a2ccea33ef\n",
            "  Stored in directory: /tmp/pip-ephem-wheel-cache-5oa9o_g8/wheels/cf/64/96/56c0338edbbef4b5c178e01ade12d50ac845f9129203528a3b\n",
            "Successfully built scrambledConvolution\n",
            "Installing collected packages: numpy, llvmlite, numba, scrambledConvolution\n",
            "  Attempting uninstall: numpy\n",
            "    Found existing installation: numpy 1.25.2\n",
            "    Uninstalling numpy-1.25.2:\n",
            "      Successfully uninstalled numpy-1.25.2\n",
            "  Attempting uninstall: llvmlite\n",
            "    Found existing installation: llvmlite 0.41.1\n",
            "    Uninstalling llvmlite-0.41.1:\n",
            "      Successfully uninstalled llvmlite-0.41.1\n",
            "  Attempting uninstall: numba\n",
            "    Found existing installation: numba 0.58.1\n",
            "    Uninstalling numba-0.58.1:\n",
            "      Successfully uninstalled numba-0.58.1\n",
            "Successfully installed llvmlite-0.42.0 numba-0.59.1 numpy-1.26.4 scrambledConvolution-0.0.1\n"
          ]
        }
      ],
      "source": [
        "!pip3 install --force-reinstall scrambledConvolution@git+https://github.com/tillvogt/scrambledConvolution.git"
      ]
    },
    {
      "cell_type": "markdown",
      "metadata": {
        "id": "UEf1A966CW6l"
      },
      "source": [
        "##**Imports**\n",
        "next to the scrambledConvolution package, numpy and numba are installed as dependencies.\n",
        "For visualizing things we import matplotlib.pyplot.\n",
        "\n",
        "The scrambledConvolution Package can be divided in different Subpackages:\n",
        "\n",
        "\n",
        "*   .layers: the different processinglayers like *'Convolutional'*, *'Dense'*, *'Pooling'* and *'Reshape'*.\n",
        "*   .activations: the different activation Layers like *'Softmax'*, *'Sigmoid'*, *'Tanh'*\n",
        "*   .losses: Lossfunctions like *'RMS'* and *'binary_cross_entropy'*\n",
        "*   .datasets: small sample packages like a shrinked version of MNIST\n",
        "\n",
        "\n",
        "\n"
      ]
    },
    {
      "cell_type": "code",
      "execution_count": 2,
      "metadata": {
        "id": "msA4IF18avpw",
        "colab": {
          "base_uri": "https://localhost:8080/"
        },
        "outputId": "d34b35a9-c324-4241-ad60-46b492e009fa"
      },
      "outputs": [
        {
          "output_type": "stream",
          "name": "stdout",
          "text": [
            "Sie nutzen das sehr gute Package von Till Vogt\n"
          ]
        }
      ],
      "source": [
        "import numpy as np\n",
        "import matplotlib.pyplot as plt\n",
        "\n",
        "from scrambledConvolution.layers import Convolutional\n",
        "from scrambledConvolution.datasets.mnist_loader import load_data"
      ]
    },
    {
      "cell_type": "markdown",
      "metadata": {
        "id": "PfMgM522kfqx"
      },
      "source": [
        "#CONVOLUTIONAL LAYER"
      ]
    },
    {
      "cell_type": "markdown",
      "metadata": {
        "id": "FRoTT7YAHIc5"
      },
      "source": [
        "##**Loading testdata**\n",
        "\n",
        "Due to the fact, that this whole project is mainly about the Convolutional Layer, we try out some of the corresponding features.\n",
        "\n",
        "So lets import some handwritten digits from MNIST Dataset. We use the build in Dataloader for that."
      ]
    },
    {
      "cell_type": "code",
      "execution_count": 5,
      "metadata": {
        "colab": {
          "base_uri": "https://localhost:8080/",
          "height": 447
        },
        "id": "EEglApzGbIT4",
        "outputId": "3da536ed-0aeb-4f39-8e1f-f5ed62b02947"
      },
      "outputs": [
        {
          "output_type": "execute_result",
          "data": {
            "text/plain": [
              "<matplotlib.image.AxesImage at 0x79d7b23880d0>"
            ]
          },
          "metadata": {},
          "execution_count": 5
        },
        {
          "output_type": "display_data",
          "data": {
            "text/plain": [
              "<Figure size 640x480 with 1 Axes>"
            ],
            "image/png": "[encoded data removed]"
          },
          "metadata": {}
        }
      ],
      "source": [
        "x_train, y_train, x_test, y_test = load_data()\n",
        "\n",
        "#change the picture_index for choosing another example\n",
        "picture_index = 1\n",
        "test_image = x_train[picture_index]\n",
        "\n",
        "plt.imshow(test_image[0], cmap=\"gray\")"
      ]
    },
    {
      "cell_type": "markdown",
      "metadata": {
        "id": "evfFi_i3JGRP"
      },
      "source": [
        "##**Using 'Convolution'**\n",
        "\n",
        "Now we instantiate a Convolutional layer. For feeding it with our testdata, just give it as argument, for the *.forward* method."
      ]
    },
    {
      "cell_type": "code",
      "execution_count": 6,
      "metadata": {
        "colab": {
          "base_uri": "https://localhost:8080/",
          "height": 447
        },
        "id": "vX1nofLsb0Pn",
        "outputId": "a37fd210-10b6-4a3d-c4a4-149ce6995b35"
      },
      "outputs": [
        {
          "output_type": "execute_result",
          "data": {
            "text/plain": [
              "<matplotlib.image.AxesImage at 0x79d7acec9d80>"
            ]
          },
          "metadata": {},
          "execution_count": 6
        },
        {
          "output_type": "display_data",
          "data": {
            "text/plain": [
              "<Figure size 640x480 with 1 Axes>"
            ],
            "image/png": "[encoded data removed]"
          },
          "metadata": {}
        }
      ],
      "source": [
        "conv1 = Convolutional((1,28,28), 3, 1, type=\"regular\", mix_factor = 0)\n",
        "conv_image = conv1.forward(test_image)\n",
        "\n",
        "plt.imshow(conv_image[0], cmap=\"gray\")"
      ]
    },
    {
      "cell_type": "markdown",
      "metadata": {
        "id": "4XhLm_g0PDop"
      },
      "source": [
        "As you might see, the image is reduced in size, as well as noisy. The noise comes from the randomly picked biases, when initialising the Layer. So for investigate the kernel variations, we should set them to zero:"
      ]
    },
    {
      "cell_type": "code",
      "execution_count": 7,
      "metadata": {
        "colab": {
          "base_uri": "https://localhost:8080/",
          "height": 447
        },
        "id": "hItHvkTEc1yF",
        "outputId": "afb33a3d-7ae1-478c-9857-14bb07b1d40c"
      },
      "outputs": [
        {
          "output_type": "execute_result",
          "data": {
            "text/plain": [
              "<matplotlib.image.AxesImage at 0x79d7aca60a60>"
            ]
          },
          "metadata": {},
          "execution_count": 7
        },
        {
          "output_type": "display_data",
          "data": {
            "text/plain": [
              "<Figure size 640x480 with 1 Axes>"
            ],
            "image/png": "[encoded data removed]"
          },
          "metadata": {}
        }
      ],
      "source": [
        "conv1.biases = np.zeros(conv1.biases.shape)\n",
        "conv_image = conv1.forward(test_image)\n",
        "\n",
        "plt.imshow(conv_image[0], cmap=\"gray\")"
      ]
    },
    {
      "cell_type": "markdown",
      "metadata": {
        "id": "yB5v0Lk1PqrU"
      },
      "source": [
        "##Mix IT UP!##\n",
        "\n",
        "Now after removing noise, let's test the mixing capabilities.\n",
        "Here you can pick one of the different types:\n",
        "*   \"*regular*\" = standard cross-correlation\n",
        "*   \"*retinaMix*\" = the kernel stays in square shape, directs the result of operations to random positions in the resulting image\n",
        "*   \"*kernelMix*\" = in this mode, the kernel is variated. For some of the Operations pixel inside the kernel is redirected to a random position.\n",
        "\n",
        "\n",
        "All the mixing operations depend on the *mix_factor*, wich is a frequency depending on the imagesize."
      ]
    },
    {
      "cell_type": "code",
      "execution_count": 9,
      "metadata": {
        "colab": {
          "base_uri": "https://localhost:8080/",
          "height": 378
        },
        "id": "Hes39sU3i87k",
        "outputId": "03acfd75-4520-4044-b0a9-23b81a8ed6a0"
      },
      "outputs": [
        {
          "output_type": "display_data",
          "data": {
            "text/plain": [
              "<Figure size 1000x500 with 3 Axes>"
            ],
            "image/png": "[encoded data removed]"
          },
          "metadata": {}
        }
      ],
      "source": [
        "#setting a mixingfactor\n",
        "mix_factor = 0.5\n",
        "\n",
        "#Instantiate two Concolutional layers\n",
        "conv_retina_mix = Convolutional((1,28,28), 3, 1, type=\"retinaMix\", mix_factor=mix_factor)\n",
        "conv_kernel_mix = Convolutional((1,28,28), 3, 1, type=\"kernelMix\", mix_factor=mix_factor)\n",
        "conv_conc_mix = Convolutional((1,28,28), 3, 1, type=\"concMix\", mix_factor=mix_factor)\n",
        "\n",
        "#Setting same weights for better comparison\n",
        "conv_kernel_mix.kernels = conv_retina_mix.kernels\n",
        "conv_conc_mix.kernels = conv_retina_mix.kernels\n",
        "\n",
        "#Setting biases to zero\n",
        "conv_retina_mix.biases = np.zeros(conv_retina_mix.biases.shape)\n",
        "conv_kernel_mix.biases = np.zeros(conv_kernel_mix.biases.shape)\n",
        "conv_conc_mix.biases = np.zeros(conv_conc_mix.biases.shape)\n",
        "\n",
        "#feeding it with the testimage\n",
        "retina_mix_image = conv_retina_mix.forward(test_image)\n",
        "kernel_mix_image = conv_kernel_mix.forward(test_image)\n",
        "conc_mix_image = conv_conc_mix.forward(test_image)\n",
        "\n",
        "######plotting#####\n",
        "fig, axs = plt.subplots(1, 3, figsize=(10, 5))\n",
        "\n",
        "axs[0].imshow(retina_mix_image[0], cmap=\"gray\")\n",
        "axs[0].title.set_text(f\"Retinamix: {mix_factor}\")\n",
        "axs[0].axis(\"off\")\n",
        "\n",
        "axs[1].imshow(kernel_mix_image[0], cmap=\"gray\")\n",
        "axs[1].title.set_text(f\"Kernelmix: {mix_factor}\")\n",
        "axs[1].axis(\"off\")\n",
        "\n",
        "axs[2].imshow(conc_mix_image[0], cmap=\"gray\")\n",
        "axs[2].title.set_text(f\"Concentrationmix: {mix_factor}\")\n",
        "axs[2].axis(\"off\")\n",
        "\n",
        "plt.tight_layout()\n",
        "plt.show()"
      ]
    },
    {
      "cell_type": "markdown",
      "metadata": {
        "id": "5Ap-tPOik6RD"
      },
      "source": [
        "#TRAIN"
      ]
    },
    {
      "cell_type": "markdown",
      "metadata": {
        "id": "PPnwZnGKrUau"
      },
      "source": [
        "##Essential imports\n",
        "\n",
        "For training a Network, one has to make some further imports first."
      ]
    },
    {
      "cell_type": "code",
      "execution_count": null,
      "metadata": {
        "id": "JqMh1Nk2sLiD"
      },
      "outputs": [],
      "source": [
        "from scrambledConvolution import train\n",
        "from scrambledConvolution.losses import mse, mse_prime\n",
        "from scrambledConvolution.activations import Sigmoid, Softmax\n",
        "from scrambledConvolution.layers import *"
      ]
    },
    {
      "cell_type": "markdown",
      "metadata": {
        "id": "lp5i-ptEsMg0"
      },
      "source": [
        "##Building Network\n",
        "\n",
        "Now we are able to build a Network as a list of the different layer Classes."
      ]
    },
    {
      "cell_type": "code",
      "execution_count": null,
      "metadata": {
        "id": "WB0Gc-uDpedF"
      },
      "outputs": [],
      "source": [
        "convolution_type = \"kernelMix\"\n",
        "mix_factor = 0\n",
        "\n",
        "\n",
        "network = [\n",
        "      Convolutional((1, 28, 28), 5, 5, type=convolution_type, mix_factor=mix_factor),\n",
        "      Sigmoid(),\n",
        "      Pooling(),\n",
        "      Convolutional((5, 12, 12), 5, 5, type=convolution_type, mix_factor=mix_factor),\n",
        "      Sigmoid(),\n",
        "      Pooling(),\n",
        "      Reshape((5,4,4), ((5*4*4), 1)),\n",
        "      Dense(80, 32),\n",
        "      Sigmoid(),\n",
        "      Dense(32,10),\n",
        "      Softmax()\n",
        "]"
      ]
    },
    {
      "cell_type": "markdown",
      "source": [
        "##Do you even lift?\n",
        "\n",
        "Fortunatly the pc trains for us...\n",
        "\n",
        "Just use the *train()* function and set the essential parameters. A fews things to explain:\n",
        "\n",
        "*   *friction:* There is no real optimizier implemented. However, to overcome saddle points 'inertia' is implemented. the *friction* parameter is the factor of the previous gradient. I recomment a value between 0 (no inertia) to 1.\n",
        "*   *weight-saving:* If this is TRUE, the weights and biases of convolutional Layers are saved in a .csv at the end of the training"
      ],
      "metadata": {
        "id": "25h_o9XSZEbh"
      }
    },
    {
      "cell_type": "code",
      "source": [
        "_ = train(mix_factor, network, mse, mse_prime, x_train, y_train, x_test, y_test, epochs = 10, batch_size = 16, )"
      ],
      "metadata": {
        "colab": {
          "base_uri": "https://localhost:8080/"
        },
        "id": "DboEzntzZUyB",
        "outputId": "1e931a5e-c944-4eb0-e5c4-5728c311f6b3"
      },
      "execution_count": null,
      "outputs": [
        {
          "output_type": "stream",
          "name": "stdout",
          "text": [
            "0.00, 1/10, train_error=0.1045, test_error=0.1040, accuracy=11%\n",
            "0.00, 2/10, train_error=0.0998, test_error=0.1015, accuracy=10%\n",
            "0.00, 3/10, train_error=0.0982, test_error=0.1005, accuracy=11%\n",
            "0.00, 4/10, train_error=0.0972, test_error=0.0999, accuracy=11%\n",
            "0.00, 5/10, train_error=0.0964, test_error=0.0995, accuracy=10%\n",
            "0.00, 6/10, train_error=0.0959, test_error=0.0992, accuracy=11%\n",
            "0.00, 7/10, train_error=0.0955, test_error=0.0990, accuracy=14%\n",
            "0.00, 8/10, train_error=0.0952, test_error=0.0987, accuracy=15%\n",
            "0.00, 9/10, train_error=0.0948, test_error=0.0985, accuracy=17%\n",
            "0.00, 10/10, train_error=0.0945, test_error=0.0981, accuracy=18%\n",
            "Time taken: 135.95309834500003\n"
          ]
        }
      ]
    }
  ],
  "metadata": {
    "colab": {
      "provenance": [],
      "toc_visible": true
    },
    "kernelspec": {
      "display_name": "Python 3",
      "name": "python3"
    },
    "language_info": {
      "name": "python"
    }
  },
  "nbformat": 4,
  "nbformat_minor": 0
}